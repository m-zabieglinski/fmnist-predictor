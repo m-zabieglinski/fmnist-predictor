{
 "cells": [
  {
   "cell_type": "code",
   "execution_count": 20,
   "id": "238b50dd",
   "metadata": {},
   "outputs": [],
   "source": [
    "import tensorflow as tf\n",
    "from tensorflow.keras import layers, models\n",
    "from tensorflow.keras.datasets import fashion_mnist\n",
    "from tensorflow.keras.utils import to_categorical\n",
    "from sklearn.model_selection import train_test_split"
   ]
  },
  {
   "cell_type": "code",
   "execution_count": 21,
   "id": "bd7b424d",
   "metadata": {},
   "outputs": [],
   "source": [
    "(x_train, y_train), (x_test, y_test) = fashion_mnist.load_data()"
   ]
  },
  {
   "cell_type": "code",
   "execution_count": 22,
   "id": "6af30871",
   "metadata": {},
   "outputs": [],
   "source": [
    "x_train, x_test = x_train / 255.0, x_test / 255.0"
   ]
  },
  {
   "cell_type": "code",
   "execution_count": 23,
   "id": "b8486acd",
   "metadata": {},
   "outputs": [],
   "source": [
    "x_train = x_train.reshape((x_train.shape[0], 28, 28, 1))\n",
    "x_test = x_test.reshape((x_test.shape[0], 28, 28, 1))"
   ]
  },
  {
   "cell_type": "code",
   "execution_count": 24,
   "id": "2b818292",
   "metadata": {},
   "outputs": [],
   "source": [
    "y_train = to_categorical(y_train, 10)\n",
    "y_test = to_categorical(y_test, 10)"
   ]
  },
  {
   "cell_type": "code",
   "execution_count": 25,
   "id": "c23ceff9",
   "metadata": {},
   "outputs": [],
   "source": [
    "x_train, x_val, y_train, y_val = train_test_split(x_train, y_train, test_size=0.2, random_state=2137)"
   ]
  },
  {
   "cell_type": "code",
   "execution_count": 26,
   "id": "9c58daeb",
   "metadata": {},
   "outputs": [],
   "source": [
    "model = models.Sequential()\n",
    "\n",
    "model.add(layers.Conv2D(32, (3, 3), activation='relu', input_shape=(28, 28, 1)))\n",
    "model.add(layers.MaxPooling2D((2, 2)))\n",
    "\n",
    "model.add(layers.Conv2D(64, (3, 3), activation='relu'))\n",
    "model.add(layers.MaxPooling2D((2, 2)))\n",
    "\n",
    "model.add(layers.Conv2D(128, (3, 3), activation='relu'))\n",
    "model.add(layers.MaxPooling2D((2, 2)))\n",
    "\n",
    "model.add(layers.Flatten())\n",
    "model.add(layers.Dense(256, activation='relu'))\n",
    "model.add(layers.Dropout(0.5))\n",
    "\n",
    "model.add(layers.Dense(128, activation='relu'))\n",
    "model.add(layers.Dropout(0.5))\n",
    "\n",
    "model.add(layers.Dense(10, activation='softmax'))"
   ]
  },
  {
   "cell_type": "code",
   "execution_count": 27,
   "id": "bedca9e3",
   "metadata": {},
   "outputs": [],
   "source": [
    "model.compile(optimizer = \"adam\",\n",
    "             loss = \"categorical_crossentropy\",\n",
    "             metrics = [\"accuracy\"],\n",
    "             )"
   ]
  },
  {
   "cell_type": "markdown",
   "id": "10ff59b6",
   "metadata": {},
   "source": [
    "best epoch = ??"
   ]
  },
  {
   "cell_type": "code",
   "execution_count": 28,
   "id": "de5f27a3",
   "metadata": {},
   "outputs": [
    {
     "name": "stdout",
     "output_type": "stream",
     "text": [
      "1500/1500 [==============================] - 28s 18ms/step - loss: 0.7514 - accuracy: 0.7238 - val_loss: 0.4867 - val_accuracy: 0.8224\n",
      "313/313 [==============================] - 3s 8ms/step - loss: 0.5039 - accuracy: 0.8100\n",
      "EPOCH 0 - ACCURACY: 81.00%\n",
      "1500/1500 [==============================] - 28s 19ms/step - loss: 0.4808 - accuracy: 0.8264 - val_loss: 0.4297 - val_accuracy: 0.8393\n",
      "313/313 [==============================] - 2s 7ms/step - loss: 0.4455 - accuracy: 0.8309\n",
      "EPOCH 1 - ACCURACY: 83.09%\n",
      "1500/1500 [==============================] - 28s 19ms/step - loss: 0.4012 - accuracy: 0.8559 - val_loss: 0.3815 - val_accuracy: 0.8581\n",
      "313/313 [==============================] - 2s 8ms/step - loss: 0.3928 - accuracy: 0.8508\n",
      "EPOCH 2 - ACCURACY: 85.08%\n",
      "1500/1500 [==============================] - 35s 23ms/step - loss: 0.3589 - accuracy: 0.8715 - val_loss: 0.3324 - val_accuracy: 0.8804\n",
      "313/313 [==============================] - 3s 8ms/step - loss: 0.3424 - accuracy: 0.8751\n",
      "EPOCH 3 - ACCURACY: 87.51%\n",
      "1500/1500 [==============================] - 31s 21ms/step - loss: 0.3305 - accuracy: 0.8822 - val_loss: 0.3279 - val_accuracy: 0.8829\n",
      "313/313 [==============================] - 3s 8ms/step - loss: 0.3400 - accuracy: 0.8770\n",
      "EPOCH 4 - ACCURACY: 87.70%\n",
      "1500/1500 [==============================] - 30s 20ms/step - loss: 0.3082 - accuracy: 0.8903 - val_loss: 0.3151 - val_accuracy: 0.8890\n",
      "313/313 [==============================] - 3s 8ms/step - loss: 0.3347 - accuracy: 0.8805\n",
      "EPOCH 5 - ACCURACY: 88.05%\n",
      "1500/1500 [==============================] - 31s 20ms/step - loss: 0.2867 - accuracy: 0.8980 - val_loss: 0.3108 - val_accuracy: 0.8915\n",
      "313/313 [==============================] - 3s 8ms/step - loss: 0.3320 - accuracy: 0.8853\n",
      "EPOCH 6 - ACCURACY: 88.53%\n",
      "1500/1500 [==============================] - 32s 21ms/step - loss: 0.2713 - accuracy: 0.9012 - val_loss: 0.3100 - val_accuracy: 0.8923\n",
      "313/313 [==============================] - 3s 9ms/step - loss: 0.3263 - accuracy: 0.8837\n",
      "EPOCH 7 - ACCURACY: 88.37%\n",
      "1500/1500 [==============================] - 3516s 2s/step - loss: 0.2562 - accuracy: 0.9077 - val_loss: 0.3104 - val_accuracy: 0.8887\n",
      "313/313 [==============================] - 3s 8ms/step - loss: 0.3295 - accuracy: 0.8834\n",
      "EPOCH 8 - ACCURACY: 88.34%\n",
      "1500/1500 [==============================] - 31s 21ms/step - loss: 0.2467 - accuracy: 0.9113 - val_loss: 0.3345 - val_accuracy: 0.8913\n",
      "313/313 [==============================] - 3s 8ms/step - loss: 0.3521 - accuracy: 0.8839\n",
      "EPOCH 9 - ACCURACY: 88.39%\n",
      "1500/1500 [==============================] - 33s 22ms/step - loss: 0.2331 - accuracy: 0.9160 - val_loss: 0.3220 - val_accuracy: 0.8910\n",
      "313/313 [==============================] - 3s 8ms/step - loss: 0.3348 - accuracy: 0.8856\n",
      "EPOCH 10 - ACCURACY: 88.56%\n",
      "1500/1500 [==============================] - 36s 24ms/step - loss: 0.2213 - accuracy: 0.9189 - val_loss: 0.3161 - val_accuracy: 0.8975\n",
      "313/313 [==============================] - 3s 9ms/step - loss: 0.3390 - accuracy: 0.8850\n",
      "EPOCH 11 - ACCURACY: 88.50%\n",
      "1500/1500 [==============================] - 38s 25ms/step - loss: 0.2125 - accuracy: 0.9221 - val_loss: 0.3382 - val_accuracy: 0.8951\n",
      "313/313 [==============================] - 3s 10ms/step - loss: 0.3571 - accuracy: 0.8860\n",
      "EPOCH 12 - ACCURACY: 88.60%\n",
      "1500/1500 [==============================] - 37s 24ms/step - loss: 0.2029 - accuracy: 0.9265 - val_loss: 0.3450 - val_accuracy: 0.8950\n",
      "313/313 [==============================] - 3s 9ms/step - loss: 0.3517 - accuracy: 0.8885\n",
      "EPOCH 13 - ACCURACY: 88.85%\n",
      "1500/1500 [==============================] - 32s 21ms/step - loss: 0.1969 - accuracy: 0.9278 - val_loss: 0.3527 - val_accuracy: 0.8874\n",
      "313/313 [==============================] - 3s 10ms/step - loss: 0.3612 - accuracy: 0.8820\n",
      "EPOCH 14 - ACCURACY: 88.20%\n",
      "1500/1500 [==============================] - 35s 23ms/step - loss: 0.1902 - accuracy: 0.9329 - val_loss: 0.3299 - val_accuracy: 0.8976\n",
      "313/313 [==============================] - 3s 10ms/step - loss: 0.3428 - accuracy: 0.8886\n",
      "EPOCH 15 - ACCURACY: 88.86%\n",
      "1500/1500 [==============================] - 40s 26ms/step - loss: 0.1819 - accuracy: 0.9344 - val_loss: 0.3560 - val_accuracy: 0.8981\n",
      "313/313 [==============================] - 2s 8ms/step - loss: 0.3695 - accuracy: 0.8917\n",
      "EPOCH 16 - ACCURACY: 89.17%\n",
      "1500/1500 [==============================] - 38s 25ms/step - loss: 0.1747 - accuracy: 0.9369 - val_loss: 0.3647 - val_accuracy: 0.8940\n",
      "313/313 [==============================] - 3s 10ms/step - loss: 0.3799 - accuracy: 0.8888\n",
      "EPOCH 17 - ACCURACY: 88.88%\n",
      "1500/1500 [==============================] - 37s 25ms/step - loss: 0.1669 - accuracy: 0.9395 - val_loss: 0.3574 - val_accuracy: 0.8942\n",
      "313/313 [==============================] - 3s 11ms/step - loss: 0.3701 - accuracy: 0.8892\n",
      "EPOCH 18 - ACCURACY: 88.92%\n",
      "1500/1500 [==============================] - 34s 23ms/step - loss: 0.1632 - accuracy: 0.9408 - val_loss: 0.3697 - val_accuracy: 0.8971\n",
      "313/313 [==============================] - 3s 8ms/step - loss: 0.3880 - accuracy: 0.8862\n",
      "EPOCH 19 - ACCURACY: 88.62%\n",
      "1500/1500 [==============================] - 33s 22ms/step - loss: 0.1589 - accuracy: 0.9435 - val_loss: 0.3779 - val_accuracy: 0.8956\n",
      "313/313 [==============================] - 3s 8ms/step - loss: 0.3808 - accuracy: 0.8939\n",
      "EPOCH 20 - ACCURACY: 89.39%\n",
      "1500/1500 [==============================] - 33s 22ms/step - loss: 0.1478 - accuracy: 0.9462 - val_loss: 0.4082 - val_accuracy: 0.8914\n",
      "313/313 [==============================] - 3s 8ms/step - loss: 0.4084 - accuracy: 0.8868\n",
      "EPOCH 21 - ACCURACY: 88.68%\n",
      "1500/1500 [==============================] - 32s 21ms/step - loss: 0.1496 - accuracy: 0.9472 - val_loss: 0.4327 - val_accuracy: 0.8935\n",
      "313/313 [==============================] - 4s 11ms/step - loss: 0.4469 - accuracy: 0.8871\n",
      "EPOCH 22 - ACCURACY: 88.71%\n",
      "1500/1500 [==============================] - 39s 26ms/step - loss: 0.1473 - accuracy: 0.9464 - val_loss: 0.4179 - val_accuracy: 0.8903\n",
      "313/313 [==============================] - 3s 10ms/step - loss: 0.4368 - accuracy: 0.8850\n",
      "EPOCH 23 - ACCURACY: 88.50%\n",
      "1500/1500 [==============================] - 33s 22ms/step - loss: 0.1412 - accuracy: 0.9492 - val_loss: 0.4461 - val_accuracy: 0.8869\n",
      "313/313 [==============================] - 3s 8ms/step - loss: 0.4714 - accuracy: 0.8820\n",
      "EPOCH 24 - ACCURACY: 88.20%\n",
      "1500/1500 [==============================] - 34s 23ms/step - loss: 0.1374 - accuracy: 0.9508 - val_loss: 0.4505 - val_accuracy: 0.8943\n",
      "313/313 [==============================] - 3s 10ms/step - loss: 0.4529 - accuracy: 0.8891\n",
      "EPOCH 25 - ACCURACY: 88.91%\n",
      "1500/1500 [==============================] - 33s 22ms/step - loss: 0.1339 - accuracy: 0.9527 - val_loss: 0.4512 - val_accuracy: 0.8943\n",
      "313/313 [==============================] - 3s 9ms/step - loss: 0.4585 - accuracy: 0.8923\n",
      "EPOCH 26 - ACCURACY: 89.23%\n",
      "1500/1500 [==============================] - 36s 24ms/step - loss: 0.1327 - accuracy: 0.9525 - val_loss: 0.4486 - val_accuracy: 0.8951\n",
      "313/313 [==============================] - 3s 9ms/step - loss: 0.4683 - accuracy: 0.8898\n",
      "EPOCH 27 - ACCURACY: 88.98%\n",
      "1500/1500 [==============================] - 36s 24ms/step - loss: 0.1273 - accuracy: 0.9546 - val_loss: 0.4767 - val_accuracy: 0.8917\n",
      "313/313 [==============================] - 3s 10ms/step - loss: 0.4919 - accuracy: 0.8881\n",
      "EPOCH 28 - ACCURACY: 88.81%\n",
      "1500/1500 [==============================] - 34s 23ms/step - loss: 0.1223 - accuracy: 0.9557 - val_loss: 0.4710 - val_accuracy: 0.8959\n",
      "313/313 [==============================] - 3s 9ms/step - loss: 0.4786 - accuracy: 0.8899\n",
      "EPOCH 29 - ACCURACY: 88.99%\n",
      "1500/1500 [==============================] - 31s 21ms/step - loss: 0.1200 - accuracy: 0.9579 - val_loss: 0.5188 - val_accuracy: 0.8882\n",
      "313/313 [==============================] - 3s 10ms/step - loss: 0.5250 - accuracy: 0.8844\n",
      "EPOCH 30 - ACCURACY: 88.44%\n",
      "1500/1500 [==============================] - 36s 24ms/step - loss: 0.1185 - accuracy: 0.9571 - val_loss: 0.5387 - val_accuracy: 0.8974\n",
      "313/313 [==============================] - 3s 9ms/step - loss: 0.5340 - accuracy: 0.8885\n",
      "EPOCH 31 - ACCURACY: 88.85%\n",
      "1500/1500 [==============================] - 35s 23ms/step - loss: 0.1112 - accuracy: 0.9604 - val_loss: 0.5511 - val_accuracy: 0.8913\n"
     ]
    },
    {
     "name": "stdout",
     "output_type": "stream",
     "text": [
      "313/313 [==============================] - 3s 9ms/step - loss: 0.5465 - accuracy: 0.8875\n",
      "EPOCH 32 - ACCURACY: 88.75%\n",
      "1500/1500 [==============================] - 36s 24ms/step - loss: 0.1159 - accuracy: 0.9595 - val_loss: 0.5695 - val_accuracy: 0.8857\n",
      "313/313 [==============================] - 3s 11ms/step - loss: 0.5650 - accuracy: 0.8838\n",
      "EPOCH 33 - ACCURACY: 88.38%\n",
      "1500/1500 [==============================] - 36s 24ms/step - loss: 0.1140 - accuracy: 0.9611 - val_loss: 0.5896 - val_accuracy: 0.8909\n",
      "313/313 [==============================] - 3s 10ms/step - loss: 0.5798 - accuracy: 0.8873\n",
      "EPOCH 34 - ACCURACY: 88.73%\n",
      "1500/1500 [==============================] - 36s 24ms/step - loss: 0.1065 - accuracy: 0.9636 - val_loss: 0.5438 - val_accuracy: 0.8939\n",
      "313/313 [==============================] - 3s 10ms/step - loss: 0.5451 - accuracy: 0.8843\n",
      "EPOCH 35 - ACCURACY: 88.43%\n",
      "1500/1500 [==============================] - 36s 24ms/step - loss: 0.1104 - accuracy: 0.9614 - val_loss: 0.5686 - val_accuracy: 0.8808\n",
      "313/313 [==============================] - 3s 9ms/step - loss: 0.5791 - accuracy: 0.8785\n",
      "EPOCH 36 - ACCURACY: 87.85%\n",
      "1500/1500 [==============================] - 35s 24ms/step - loss: 0.0998 - accuracy: 0.9648 - val_loss: 0.5819 - val_accuracy: 0.8913\n",
      "313/313 [==============================] - 3s 10ms/step - loss: 0.5896 - accuracy: 0.8835\n",
      "EPOCH 37 - ACCURACY: 88.35%\n",
      "1500/1500 [==============================] - 35s 23ms/step - loss: 0.1037 - accuracy: 0.9627 - val_loss: 0.5969 - val_accuracy: 0.8877\n",
      "313/313 [==============================] - 3s 11ms/step - loss: 0.5919 - accuracy: 0.8815\n",
      "EPOCH 38 - ACCURACY: 88.15%\n",
      "1500/1500 [==============================] - 34s 23ms/step - loss: 0.1021 - accuracy: 0.9647 - val_loss: 0.6213 - val_accuracy: 0.8955\n",
      "313/313 [==============================] - 3s 8ms/step - loss: 0.6361 - accuracy: 0.8860\n",
      "EPOCH 39 - ACCURACY: 88.60%\n",
      "1500/1500 [==============================] - 31s 21ms/step - loss: 0.1032 - accuracy: 0.9641 - val_loss: 0.6305 - val_accuracy: 0.8894\n",
      "313/313 [==============================] - 3s 8ms/step - loss: 0.6498 - accuracy: 0.8804\n",
      "EPOCH 40 - ACCURACY: 88.04%\n",
      "1500/1500 [==============================] - 36s 24ms/step - loss: 0.0973 - accuracy: 0.9650 - val_loss: 0.7118 - val_accuracy: 0.8911\n",
      "313/313 [==============================] - 3s 8ms/step - loss: 0.7120 - accuracy: 0.8893\n",
      "EPOCH 41 - ACCURACY: 88.93%\n",
      "1500/1500 [==============================] - 32s 21ms/step - loss: 0.0949 - accuracy: 0.9661 - val_loss: 0.6400 - val_accuracy: 0.8929\n",
      "313/313 [==============================] - 3s 8ms/step - loss: 0.6417 - accuracy: 0.8837\n",
      "EPOCH 42 - ACCURACY: 88.37%\n",
      "1500/1500 [==============================] - 37s 25ms/step - loss: 0.0938 - accuracy: 0.9679 - val_loss: 0.6396 - val_accuracy: 0.8942\n",
      "313/313 [==============================] - 3s 10ms/step - loss: 0.6585 - accuracy: 0.8888\n",
      "EPOCH 43 - ACCURACY: 88.88%\n",
      "1500/1500 [==============================] - 37s 25ms/step - loss: 0.0893 - accuracy: 0.9680 - val_loss: 0.6439 - val_accuracy: 0.8890\n",
      "313/313 [==============================] - 3s 10ms/step - loss: 0.6698 - accuracy: 0.8844\n",
      "EPOCH 44 - ACCURACY: 88.44%\n",
      "1500/1500 [==============================] - 38s 25ms/step - loss: 0.0944 - accuracy: 0.9674 - val_loss: 0.6831 - val_accuracy: 0.8927\n",
      "313/313 [==============================] - 3s 10ms/step - loss: 0.6834 - accuracy: 0.8881\n",
      "EPOCH 45 - ACCURACY: 88.81%\n",
      "1500/1500 [==============================] - 38s 25ms/step - loss: 0.0908 - accuracy: 0.9690 - val_loss: 0.6712 - val_accuracy: 0.8921\n",
      "313/313 [==============================] - 3s 10ms/step - loss: 0.6655 - accuracy: 0.8875\n",
      "EPOCH 46 - ACCURACY: 88.75%\n",
      "1500/1500 [==============================] - 38s 25ms/step - loss: 0.0889 - accuracy: 0.9695 - val_loss: 0.7222 - val_accuracy: 0.8815\n",
      "313/313 [==============================] - 3s 11ms/step - loss: 0.7432 - accuracy: 0.8770\n",
      "EPOCH 47 - ACCURACY: 87.70%\n",
      "1500/1500 [==============================] - 38s 25ms/step - loss: 0.0920 - accuracy: 0.9689 - val_loss: 0.6929 - val_accuracy: 0.8823\n",
      "313/313 [==============================] - 3s 10ms/step - loss: 0.7406 - accuracy: 0.8738\n",
      "EPOCH 48 - ACCURACY: 87.38%\n",
      "1500/1500 [==============================] - 37s 25ms/step - loss: 0.0889 - accuracy: 0.9690 - val_loss: 0.7140 - val_accuracy: 0.8812\n",
      "313/313 [==============================] - 3s 9ms/step - loss: 0.7838 - accuracy: 0.8738\n",
      "EPOCH 49 - ACCURACY: 87.38%\n"
     ]
    }
   ],
   "source": [
    "for i in range(50):\n",
    "    model.fit(x_train, y_train, epochs = 1, validation_data = (x_val, y_val))\n",
    "    test_loss, test_acc = model.evaluate(x_test, y_test)\n",
    "    print(f'EPOCH {i} - ACCURACY: {test_acc * 100:.2f}%')"
   ]
  },
  {
   "cell_type": "code",
   "execution_count": null,
   "id": "4aabbc35",
   "metadata": {},
   "outputs": [],
   "source": []
  }
 ],
 "metadata": {
  "kernelspec": {
   "display_name": "Python 3",
   "language": "python",
   "name": "python3"
  },
  "language_info": {
   "codemirror_mode": {
    "name": "ipython",
    "version": 3
   },
   "file_extension": ".py",
   "mimetype": "text/x-python",
   "name": "python",
   "nbconvert_exporter": "python",
   "pygments_lexer": "ipython3",
   "version": "3.8.8"
  }
 },
 "nbformat": 4,
 "nbformat_minor": 5
}
