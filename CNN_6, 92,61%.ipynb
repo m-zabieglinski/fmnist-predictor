{
 "cells": [
  {
   "cell_type": "code",
   "execution_count": 10,
   "id": "6d76aa20",
   "metadata": {},
   "outputs": [],
   "source": [
    "import tensorflow as tf\n",
    "from tensorflow.keras import layers, models\n",
    "from tensorflow.keras.datasets import fashion_mnist\n",
    "from tensorflow.keras.utils import to_categorical\n",
    "from sklearn.model_selection import train_test_split\n",
    "from keras.callbacks import EarlyStopping"
   ]
  },
  {
   "cell_type": "code",
   "execution_count": 11,
   "id": "46cac365",
   "metadata": {},
   "outputs": [],
   "source": [
    "(x_train, y_train), (x_test, y_test) = fashion_mnist.load_data()\n",
    "\n",
    "x_train, x_test = x_train / 255.0, x_test / 255.0\n",
    "\n",
    "x_train = x_train.reshape((x_train.shape[0], 28, 28, 1))\n",
    "x_test = x_test.reshape((x_test.shape[0], 28, 28, 1))\n",
    "\n",
    "y_train = to_categorical(y_train, 10)\n",
    "y_test = to_categorical(y_test, 10)"
   ]
  },
  {
   "cell_type": "code",
   "execution_count": 12,
   "id": "1ba006b2",
   "metadata": {},
   "outputs": [],
   "source": [
    "x_train, x_val, y_train, y_val = train_test_split(x_train, y_train, test_size = 0.2, random_state = 1234)"
   ]
  },
  {
   "cell_type": "code",
   "execution_count": 13,
   "id": "236db285",
   "metadata": {},
   "outputs": [],
   "source": [
    "model = models.Sequential()\n",
    "model.add(layers.experimental.preprocessing.RandomCrop(28, 28, input_shape=(28, 28, 1)))\n",
    "model.add(layers.experimental.preprocessing.RandomFlip(\"horizontal\"))\n",
    "model.add(layers.Conv2D(32, (3, 3),\n",
    "                        activation='relu',\n",
    "                        input_shape=(28, 28, 1),\n",
    "                        padding = \"same\")\n",
    "         )\n",
    "model.add(layers.MaxPooling2D((2, 2)))\n",
    "model.add(layers.Conv2D(64, (3, 3),\n",
    "                        activation='relu',\n",
    "                        padding = \"same\")\n",
    "         )\n",
    "model.add(layers.MaxPooling2D((2, 2)))\n",
    "model.add(layers.Conv2D(64, (3, 3),\n",
    "                        activation='relu',\n",
    "                        padding = \"same\")\n",
    "         )\n",
    "model.add(layers.Flatten())\n",
    "model.add(layers.Dense(128, activation='relu'))\n",
    "model.add(layers.Dropout(0.5))\n",
    "model.add(layers.Dense(10, activation='softmax'))"
   ]
  },
  {
   "cell_type": "code",
   "execution_count": 14,
   "id": "8c1fea63",
   "metadata": {},
   "outputs": [
    {
     "name": "stdout",
     "output_type": "stream",
     "text": [
      "Model: \"sequential_1\"\n",
      "_________________________________________________________________\n",
      " Layer (type)                Output Shape              Param #   \n",
      "=================================================================\n",
      " conv2d_3 (Conv2D)           (None, 28, 28, 32)        320       \n",
      "                                                                 \n",
      " max_pooling2d_2 (MaxPooling  (None, 14, 14, 32)       0         \n",
      " 2D)                                                             \n",
      "                                                                 \n",
      " conv2d_4 (Conv2D)           (None, 14, 14, 64)        18496     \n",
      "                                                                 \n",
      " max_pooling2d_3 (MaxPooling  (None, 7, 7, 64)         0         \n",
      " 2D)                                                             \n",
      "                                                                 \n",
      " conv2d_5 (Conv2D)           (None, 7, 7, 64)          36928     \n",
      "                                                                 \n",
      " flatten_1 (Flatten)         (None, 3136)              0         \n",
      "                                                                 \n",
      " dense_2 (Dense)             (None, 128)               401536    \n",
      "                                                                 \n",
      " dropout_1 (Dropout)         (None, 128)               0         \n",
      "                                                                 \n",
      " dense_3 (Dense)             (None, 10)                1290      \n",
      "                                                                 \n",
      "=================================================================\n",
      "Total params: 458,570\n",
      "Trainable params: 458,570\n",
      "Non-trainable params: 0\n",
      "_________________________________________________________________\n"
     ]
    }
   ],
   "source": [
    "model.summary()"
   ]
  },
  {
   "cell_type": "code",
   "execution_count": 15,
   "id": "55710e71",
   "metadata": {},
   "outputs": [],
   "source": [
    "model.compile(optimizer = \"adam\",\n",
    "             loss = \"categorical_crossentropy\",\n",
    "             metrics = [\"accuracy\"],\n",
    "             )\n",
    "\n",
    "early_stopping = EarlyStopping(monitor = \"val_accuracy\", patience = 10, restore_best_weights = True)"
   ]
  },
  {
   "cell_type": "code",
   "execution_count": 16,
   "id": "5dcc642e",
   "metadata": {
    "scrolled": true
   },
   "outputs": [
    {
     "name": "stdout",
     "output_type": "stream",
     "text": [
      "Epoch 1/100\n",
      "WARNING:tensorflow:AutoGraph could not transform <function Model.make_train_function.<locals>.train_function at 0x00000220E3ACEAF0> and will run it as-is.\n",
      "Cause: Unable to locate the source code of <function Model.make_train_function.<locals>.train_function at 0x00000220E3ACEAF0>. Note that functions defined in certain environments, like the interactive Python shell, do not expose their source code. If that is the case, you should define them in a .py source file. If you are certain the code is graph-compatible, wrap the call using @tf.autograph.experimental.do_not_convert. Original error: could not get source code\n",
      "To silence this warning, decorate the function with @tf.autograph.experimental.do_not_convert\n",
      "WARNING: AutoGraph could not transform <function Model.make_train_function.<locals>.train_function at 0x00000220E3ACEAF0> and will run it as-is.\n",
      "Cause: Unable to locate the source code of <function Model.make_train_function.<locals>.train_function at 0x00000220E3ACEAF0>. Note that functions defined in certain environments, like the interactive Python shell, do not expose their source code. If that is the case, you should define them in a .py source file. If you are certain the code is graph-compatible, wrap the call using @tf.autograph.experimental.do_not_convert. Original error: could not get source code\n",
      "To silence this warning, decorate the function with @tf.autograph.experimental.do_not_convert\n",
      "188/188 [==============================] - ETA: 0s - loss: 0.7378 - accuracy: 0.7326WARNING:tensorflow:AutoGraph could not transform <function Model.make_test_function.<locals>.test_function at 0x00000220EA28EB80> and will run it as-is.\n",
      "Cause: Unable to locate the source code of <function Model.make_test_function.<locals>.test_function at 0x00000220EA28EB80>. Note that functions defined in certain environments, like the interactive Python shell, do not expose their source code. If that is the case, you should define them in a .py source file. If you are certain the code is graph-compatible, wrap the call using @tf.autograph.experimental.do_not_convert. Original error: could not get source code\n",
      "To silence this warning, decorate the function with @tf.autograph.experimental.do_not_convert\n",
      "WARNING: AutoGraph could not transform <function Model.make_test_function.<locals>.test_function at 0x00000220EA28EB80> and will run it as-is.\n",
      "Cause: Unable to locate the source code of <function Model.make_test_function.<locals>.test_function at 0x00000220EA28EB80>. Note that functions defined in certain environments, like the interactive Python shell, do not expose their source code. If that is the case, you should define them in a .py source file. If you are certain the code is graph-compatible, wrap the call using @tf.autograph.experimental.do_not_convert. Original error: could not get source code\n",
      "To silence this warning, decorate the function with @tf.autograph.experimental.do_not_convert\n",
      "188/188 [==============================] - 17s 15ms/step - loss: 0.7378 - accuracy: 0.7326 - val_loss: 0.4304 - val_accuracy: 0.8450\n",
      "Epoch 2/100\n",
      "188/188 [==============================] - 2s 10ms/step - loss: 0.4295 - accuracy: 0.8472 - val_loss: 0.3528 - val_accuracy: 0.8712\n",
      "Epoch 3/100\n",
      "188/188 [==============================] - 2s 10ms/step - loss: 0.3629 - accuracy: 0.8719 - val_loss: 0.3083 - val_accuracy: 0.8837\n",
      "Epoch 4/100\n",
      "188/188 [==============================] - 2s 10ms/step - loss: 0.3266 - accuracy: 0.8850 - val_loss: 0.2845 - val_accuracy: 0.8964\n",
      "Epoch 5/100\n",
      "188/188 [==============================] - 2s 10ms/step - loss: 0.2988 - accuracy: 0.8940 - val_loss: 0.2695 - val_accuracy: 0.9005\n",
      "Epoch 6/100\n",
      "188/188 [==============================] - 2s 11ms/step - loss: 0.2783 - accuracy: 0.9003 - val_loss: 0.2552 - val_accuracy: 0.9032\n",
      "Epoch 7/100\n",
      "188/188 [==============================] - 2s 10ms/step - loss: 0.2607 - accuracy: 0.9068 - val_loss: 0.2449 - val_accuracy: 0.9069\n",
      "Epoch 8/100\n",
      "188/188 [==============================] - 2s 11ms/step - loss: 0.2463 - accuracy: 0.9114 - val_loss: 0.2462 - val_accuracy: 0.9077\n",
      "Epoch 9/100\n",
      "188/188 [==============================] - 2s 10ms/step - loss: 0.2354 - accuracy: 0.9152 - val_loss: 0.2383 - val_accuracy: 0.9098\n",
      "Epoch 10/100\n",
      "188/188 [==============================] - 2s 10ms/step - loss: 0.2210 - accuracy: 0.9209 - val_loss: 0.2292 - val_accuracy: 0.9143\n",
      "Epoch 11/100\n",
      "188/188 [==============================] - 2s 10ms/step - loss: 0.2117 - accuracy: 0.9243 - val_loss: 0.2243 - val_accuracy: 0.9140\n",
      "Epoch 12/100\n",
      "188/188 [==============================] - 2s 11ms/step - loss: 0.2015 - accuracy: 0.9266 - val_loss: 0.2281 - val_accuracy: 0.9155\n",
      "Epoch 13/100\n",
      "188/188 [==============================] - 2s 10ms/step - loss: 0.1912 - accuracy: 0.9314 - val_loss: 0.2275 - val_accuracy: 0.9168\n",
      "Epoch 14/100\n",
      "188/188 [==============================] - 2s 10ms/step - loss: 0.1807 - accuracy: 0.9345 - val_loss: 0.2222 - val_accuracy: 0.9197\n",
      "Epoch 15/100\n",
      "188/188 [==============================] - 2s 10ms/step - loss: 0.1704 - accuracy: 0.9382 - val_loss: 0.2175 - val_accuracy: 0.9206\n",
      "Epoch 16/100\n",
      "188/188 [==============================] - 2s 10ms/step - loss: 0.1607 - accuracy: 0.9421 - val_loss: 0.2147 - val_accuracy: 0.9235\n",
      "Epoch 17/100\n",
      "188/188 [==============================] - 2s 10ms/step - loss: 0.1533 - accuracy: 0.9444 - val_loss: 0.2329 - val_accuracy: 0.9153\n",
      "Epoch 18/100\n",
      "188/188 [==============================] - 2s 11ms/step - loss: 0.1464 - accuracy: 0.9456 - val_loss: 0.2276 - val_accuracy: 0.9236\n",
      "Epoch 19/100\n",
      "188/188 [==============================] - 2s 10ms/step - loss: 0.1385 - accuracy: 0.9475 - val_loss: 0.2184 - val_accuracy: 0.9227\n",
      "Epoch 20/100\n",
      "188/188 [==============================] - 2s 11ms/step - loss: 0.1317 - accuracy: 0.9509 - val_loss: 0.2249 - val_accuracy: 0.9210\n",
      "Epoch 21/100\n",
      "188/188 [==============================] - 2s 10ms/step - loss: 0.1241 - accuracy: 0.9533 - val_loss: 0.2268 - val_accuracy: 0.9233\n",
      "Epoch 22/100\n",
      "188/188 [==============================] - 2s 10ms/step - loss: 0.1171 - accuracy: 0.9558 - val_loss: 0.2319 - val_accuracy: 0.9227\n",
      "Epoch 23/100\n",
      "188/188 [==============================] - 2s 10ms/step - loss: 0.1119 - accuracy: 0.9575 - val_loss: 0.2426 - val_accuracy: 0.9262\n",
      "Epoch 24/100\n",
      "188/188 [==============================] - 2s 11ms/step - loss: 0.1050 - accuracy: 0.9602 - val_loss: 0.2448 - val_accuracy: 0.9239\n",
      "Epoch 25/100\n",
      "188/188 [==============================] - 2s 11ms/step - loss: 0.1027 - accuracy: 0.9596 - val_loss: 0.2319 - val_accuracy: 0.9250\n",
      "Epoch 26/100\n",
      "188/188 [==============================] - 2s 10ms/step - loss: 0.0969 - accuracy: 0.9626 - val_loss: 0.2572 - val_accuracy: 0.9243\n",
      "Epoch 27/100\n",
      "188/188 [==============================] - 2s 10ms/step - loss: 0.0912 - accuracy: 0.9653 - val_loss: 0.2511 - val_accuracy: 0.9240\n",
      "Epoch 28/100\n",
      "188/188 [==============================] - 2s 10ms/step - loss: 0.0866 - accuracy: 0.9659 - val_loss: 0.2704 - val_accuracy: 0.9233\n",
      "Epoch 29/100\n",
      "188/188 [==============================] - 2s 10ms/step - loss: 0.0822 - accuracy: 0.9676 - val_loss: 0.2632 - val_accuracy: 0.9274\n",
      "Epoch 30/100\n",
      "188/188 [==============================] - 2s 11ms/step - loss: 0.0803 - accuracy: 0.9689 - val_loss: 0.2881 - val_accuracy: 0.9222\n",
      "Epoch 31/100\n",
      "188/188 [==============================] - 2s 10ms/step - loss: 0.0743 - accuracy: 0.9705 - val_loss: 0.2814 - val_accuracy: 0.9243\n",
      "Epoch 32/100\n",
      "188/188 [==============================] - 2s 10ms/step - loss: 0.0710 - accuracy: 0.9719 - val_loss: 0.2755 - val_accuracy: 0.9215\n",
      "Epoch 33/100\n",
      "188/188 [==============================] - 2s 10ms/step - loss: 0.0672 - accuracy: 0.9733 - val_loss: 0.2945 - val_accuracy: 0.9253\n",
      "Epoch 34/100\n",
      "188/188 [==============================] - 2s 10ms/step - loss: 0.0652 - accuracy: 0.9747 - val_loss: 0.2962 - val_accuracy: 0.9222\n",
      "Epoch 35/100\n",
      "188/188 [==============================] - 2s 10ms/step - loss: 0.0596 - accuracy: 0.9761 - val_loss: 0.3220 - val_accuracy: 0.9235\n",
      "Epoch 36/100\n",
      "188/188 [==============================] - 2s 11ms/step - loss: 0.0628 - accuracy: 0.9755 - val_loss: 0.3028 - val_accuracy: 0.9281\n",
      "Epoch 37/100\n",
      "188/188 [==============================] - 2s 10ms/step - loss: 0.0595 - accuracy: 0.9767 - val_loss: 0.3011 - val_accuracy: 0.9259\n",
      "Epoch 38/100\n",
      "188/188 [==============================] - 2s 10ms/step - loss: 0.0575 - accuracy: 0.9767 - val_loss: 0.3151 - val_accuracy: 0.9262\n",
      "Epoch 39/100\n",
      "188/188 [==============================] - 2s 10ms/step - loss: 0.0555 - accuracy: 0.9778 - val_loss: 0.3178 - val_accuracy: 0.9253\n",
      "Epoch 40/100\n",
      "188/188 [==============================] - 2s 11ms/step - loss: 0.0531 - accuracy: 0.9795 - val_loss: 0.3357 - val_accuracy: 0.9247\n",
      "Epoch 41/100\n",
      "188/188 [==============================] - 2s 10ms/step - loss: 0.0495 - accuracy: 0.9807 - val_loss: 0.3364 - val_accuracy: 0.9247\n",
      "Epoch 42/100\n",
      "188/188 [==============================] - 2s 12ms/step - loss: 0.0479 - accuracy: 0.9814 - val_loss: 0.3520 - val_accuracy: 0.9255\n",
      "Epoch 43/100\n",
      "188/188 [==============================] - 2s 10ms/step - loss: 0.0526 - accuracy: 0.9799 - val_loss: 0.3498 - val_accuracy: 0.9235\n",
      "Epoch 44/100\n",
      "188/188 [==============================] - 2s 10ms/step - loss: 0.0462 - accuracy: 0.9815 - val_loss: 0.3604 - val_accuracy: 0.9262\n",
      "Epoch 45/100\n",
      "188/188 [==============================] - 2s 10ms/step - loss: 0.0420 - accuracy: 0.9835 - val_loss: 0.3667 - val_accuracy: 0.9249\n",
      "Epoch 46/100\n",
      "188/188 [==============================] - 2s 10ms/step - loss: 0.0426 - accuracy: 0.9827 - val_loss: 0.3705 - val_accuracy: 0.9227\n"
     ]
    },
    {
     "data": {
      "text/plain": [
       "<keras.callbacks.History at 0x220ea26df40>"
      ]
     },
     "execution_count": 16,
     "metadata": {},
     "output_type": "execute_result"
    }
   ],
   "source": [
    "model.fit(x_train, y_train,\n",
    "                  batch_size = 256,\n",
    "                  epochs = 100,\n",
    "                  validation_data=(x_val, y_val),\n",
    "                  callbacks=[early_stopping],\n",
    "         )"
   ]
  },
  {
   "cell_type": "code",
   "execution_count": 17,
   "id": "809f26bc",
   "metadata": {},
   "outputs": [
    {
     "name": "stdout",
     "output_type": "stream",
     "text": [
      "313/313 [==============================] - 1s 3ms/step - loss: 0.3547 - accuracy: 0.9242\n",
      "ACCURACY: 92.42%\n"
     ]
    }
   ],
   "source": [
    "test_loss, test_acc = model.evaluate(x_test, y_test)\n",
    "print(f'ACCURACY: {test_acc * 100:.2f}%')"
   ]
  },
  {
   "cell_type": "code",
   "execution_count": null,
   "id": "6b239558",
   "metadata": {},
   "outputs": [],
   "source": []
  }
 ],
 "metadata": {
  "kernelspec": {
   "display_name": "Python 3 (ipykernel)",
   "language": "python",
   "name": "python3"
  },
  "language_info": {
   "codemirror_mode": {
    "name": "ipython",
    "version": 3
   },
   "file_extension": ".py",
   "mimetype": "text/x-python",
   "name": "python",
   "nbconvert_exporter": "python",
   "pygments_lexer": "ipython3",
   "version": "3.8.18"
  }
 },
 "nbformat": 4,
 "nbformat_minor": 5
}
