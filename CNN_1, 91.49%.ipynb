{
 "cells": [
  {
   "cell_type": "code",
   "execution_count": 87,
   "id": "0b4d9cd9",
   "metadata": {},
   "outputs": [],
   "source": [
    "import tensorflow as tf\n",
    "from tensorflow.keras import layers, models\n",
    "from tensorflow.keras.datasets import fashion_mnist\n",
    "from tensorflow.keras.utils import to_categorical\n",
    "from sklearn.model_selection import train_test_split"
   ]
  },
  {
   "cell_type": "code",
   "execution_count": 88,
   "id": "3a14128c",
   "metadata": {},
   "outputs": [],
   "source": [
    "(x_train, y_train), (x_test, y_test) = fashion_mnist.load_data()"
   ]
  },
  {
   "cell_type": "code",
   "execution_count": 89,
   "id": "546a5f7a",
   "metadata": {},
   "outputs": [],
   "source": [
    "x_train, x_test = x_train / 255.0, x_test / 255.0"
   ]
  },
  {
   "cell_type": "code",
   "execution_count": 90,
   "id": "d45d71b6",
   "metadata": {},
   "outputs": [],
   "source": [
    "x_train = x_train.reshape((x_train.shape[0], 28, 28, 1))\n",
    "x_test = x_test.reshape((x_test.shape[0], 28, 28, 1))"
   ]
  },
  {
   "cell_type": "code",
   "execution_count": 91,
   "id": "a7a12796",
   "metadata": {},
   "outputs": [],
   "source": [
    "y_train = to_categorical(y_train, 10)\n",
    "y_test = to_categorical(y_test, 10)"
   ]
  },
  {
   "cell_type": "code",
   "execution_count": 92,
   "id": "61205acd",
   "metadata": {},
   "outputs": [],
   "source": [
    "x_train, x_test, y_train, y_test = train_test_split(x_train, y_train, test_size=0.2, random_state=42)"
   ]
  },
  {
   "cell_type": "code",
   "execution_count": 93,
   "id": "71ead901",
   "metadata": {},
   "outputs": [
    {
     "data": {
      "text/plain": [
       "(0.2859616020366489, 0.35298025732209415)"
      ]
     },
     "execution_count": 93,
     "metadata": {},
     "output_type": "execute_result"
    }
   ],
   "source": [
    "mean_value = np.mean(x_train)\n",
    "std_value = np.std(x_train)\n",
    "(mean_value, std_value)"
   ]
  },
  {
   "cell_type": "code",
   "execution_count": 94,
   "id": "09c47182",
   "metadata": {},
   "outputs": [],
   "source": [
    "model = models.Sequential()\n",
    "model.add(layers.experimental.preprocessing.RandomCrop(28, 28, input_shape=(28, 28, 1)))\n",
    "model.add(layers.experimental.preprocessing.RandomFlip(\"horizontal\"))\n",
    "model.add(layers.Conv2D(32, (3, 3), activation='relu', input_shape=(28, 28, 1)))\n",
    "model.add(layers.MaxPooling2D((2, 2)))\n",
    "model.add(layers.Conv2D(64, (3, 3), activation='relu'))\n",
    "model.add(layers.MaxPooling2D((2, 2)))\n",
    "model.add(layers.Conv2D(64, (3, 3), activation='relu'))\n",
    "model.add(layers.Flatten())\n",
    "model.add(layers.Dense(128, activation='relu'))\n",
    "model.add(layers.Dense(10, activation='softmax'))"
   ]
  },
  {
   "cell_type": "code",
   "execution_count": 95,
   "id": "528de0ca",
   "metadata": {},
   "outputs": [],
   "source": [
    "model.compile(optimizer = \"adam\",\n",
    "             loss = \"categorical_crossentropy\",\n",
    "             metrics = [\"accuracy\"],\n",
    "             )"
   ]
  },
  {
   "cell_type": "markdown",
   "id": "5a058fcc",
   "metadata": {},
   "source": [
    "best epoch = 9"
   ]
  },
  {
   "cell_type": "code",
   "execution_count": 97,
   "id": "c8334da9",
   "metadata": {},
   "outputs": [
    {
     "name": "stdout",
     "output_type": "stream",
     "text": [
      "1500/1500 [==============================] - 17s 11ms/step - loss: 0.1318 - accuracy: 0.9499 - val_loss: 0.2833 - val_accuracy: 0.9070\n",
      "375/375 [==============================] - 1s 4ms/step - loss: 0.2833 - accuracy: 0.9070\n",
      "Test accuracy: 90.70%\n",
      "1500/1500 [==============================] - 17s 11ms/step - loss: 0.1217 - accuracy: 0.9535 - val_loss: 0.3015 - val_accuracy: 0.9085\n",
      "375/375 [==============================] - 1s 3ms/step - loss: 0.3015 - accuracy: 0.9085\n",
      "Test accuracy: 90.85%\n",
      "1500/1500 [==============================] - 16s 11ms/step - loss: 0.1153 - accuracy: 0.9570 - val_loss: 0.2781 - val_accuracy: 0.9127\n",
      "375/375 [==============================] - 1s 3ms/step - loss: 0.2781 - accuracy: 0.9127\n",
      "Test accuracy: 91.27%\n",
      "1500/1500 [==============================] - 17s 11ms/step - loss: 0.1113 - accuracy: 0.9581 - val_loss: 0.2820 - val_accuracy: 0.9122\n",
      "375/375 [==============================] - 1s 4ms/step - loss: 0.2820 - accuracy: 0.9122\n",
      "Test accuracy: 91.22%\n",
      "1500/1500 [==============================] - 17s 11ms/step - loss: 0.1034 - accuracy: 0.9598 - val_loss: 0.3161 - val_accuracy: 0.9137\n",
      "375/375 [==============================] - 1s 3ms/step - loss: 0.3161 - accuracy: 0.9137\n",
      "Test accuracy: 91.37%\n",
      "1500/1500 [==============================] - 17s 11ms/step - loss: 0.1018 - accuracy: 0.9621 - val_loss: 0.2972 - val_accuracy: 0.9093\n",
      "375/375 [==============================] - 1s 3ms/step - loss: 0.2972 - accuracy: 0.9093\n",
      "Test accuracy: 90.93%\n",
      "1500/1500 [==============================] - 17s 12ms/step - loss: 0.0983 - accuracy: 0.9633 - val_loss: 0.3418 - val_accuracy: 0.9124\n",
      "375/375 [==============================] - 1s 3ms/step - loss: 0.3418 - accuracy: 0.9124\n",
      "Test accuracy: 91.24%\n",
      "1500/1500 [==============================] - 17s 12ms/step - loss: 0.0902 - accuracy: 0.9664 - val_loss: 0.3295 - val_accuracy: 0.9145\n",
      "375/375 [==============================] - 1s 3ms/step - loss: 0.3295 - accuracy: 0.9145\n",
      "Test accuracy: 91.45%\n",
      "1500/1500 [==============================] - 16s 11ms/step - loss: 0.0915 - accuracy: 0.9660 - val_loss: 0.3351 - val_accuracy: 0.9128\n",
      "375/375 [==============================] - 1s 3ms/step - loss: 0.3351 - accuracy: 0.9128\n",
      "Test accuracy: 91.28%\n",
      "1500/1500 [==============================] - 16s 11ms/step - loss: 0.0879 - accuracy: 0.9671 - val_loss: 0.3349 - val_accuracy: 0.9112\n",
      "375/375 [==============================] - 1s 3ms/step - loss: 0.3349 - accuracy: 0.9112\n",
      "Test accuracy: 91.12%\n",
      "1500/1500 [==============================] - 16s 11ms/step - loss: 0.0805 - accuracy: 0.9694 - val_loss: 0.4005 - val_accuracy: 0.9073\n",
      "375/375 [==============================] - 1s 3ms/step - loss: 0.4005 - accuracy: 0.9073\n",
      "Test accuracy: 90.73%\n",
      "1500/1500 [==============================] - 16s 11ms/step - loss: 0.0784 - accuracy: 0.9708 - val_loss: 0.3805 - val_accuracy: 0.9083\n",
      "375/375 [==============================] - 1s 3ms/step - loss: 0.3805 - accuracy: 0.9083\n",
      "Test accuracy: 90.83%\n",
      "1500/1500 [==============================] - 16s 11ms/step - loss: 0.0769 - accuracy: 0.9711 - val_loss: 0.3724 - val_accuracy: 0.9122\n",
      "375/375 [==============================] - 1s 3ms/step - loss: 0.3724 - accuracy: 0.9122\n",
      "Test accuracy: 91.22%\n",
      "1500/1500 [==============================] - 16s 11ms/step - loss: 0.0731 - accuracy: 0.9731 - val_loss: 0.4039 - val_accuracy: 0.9077\n",
      "375/375 [==============================] - 1s 3ms/step - loss: 0.4039 - accuracy: 0.9077\n",
      "Test accuracy: 90.77%\n",
      "1500/1500 [==============================] - 17s 11ms/step - loss: 0.0717 - accuracy: 0.9728 - val_loss: 0.3903 - val_accuracy: 0.9086\n",
      "375/375 [==============================] - 1s 3ms/step - loss: 0.3903 - accuracy: 0.9086\n",
      "Test accuracy: 90.86%\n"
     ]
    }
   ],
   "source": [
    "for i in range(15):\n",
    "    model.fit(x_train, y_train, epochs = 1, validation_data = (x_test, y_test))\n",
    "    test_loss, test_acc = model.evaluate(x_test, y_test)\n",
    "    print(f'Test accuracy: {test_acc * 100:.2f}%')"
   ]
  },
  {
   "cell_type": "code",
   "execution_count": null,
   "id": "97efc12d",
   "metadata": {},
   "outputs": [],
   "source": []
  }
 ],
 "metadata": {
  "kernelspec": {
   "display_name": "Python 3",
   "language": "python",
   "name": "python3"
  },
  "language_info": {
   "codemirror_mode": {
    "name": "ipython",
    "version": 3
   },
   "file_extension": ".py",
   "mimetype": "text/x-python",
   "name": "python",
   "nbconvert_exporter": "python",
   "pygments_lexer": "ipython3",
   "version": "3.8.8"
  }
 },
 "nbformat": 4,
 "nbformat_minor": 5
}
