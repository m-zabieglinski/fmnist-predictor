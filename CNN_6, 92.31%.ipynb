{
 "cells": [
  {
   "cell_type": "code",
   "execution_count": 80,
   "id": "238b50dd",
   "metadata": {},
   "outputs": [],
   "source": [
    "import tensorflow as tf\n",
    "from tensorflow.keras import layers, models\n",
    "from tensorflow.keras.datasets import fashion_mnist\n",
    "from tensorflow.keras.utils import to_categorical\n",
    "from sklearn.model_selection import train_test_split\n",
    "from keras.callbacks import EarlyStopping\n",
    "\n",
    "import numpy as np"
   ]
  },
  {
   "cell_type": "code",
   "execution_count": 81,
   "id": "bd7b424d",
   "metadata": {},
   "outputs": [],
   "source": [
    "(x_train, y_train), (x_test, y_test) = fashion_mnist.load_data()"
   ]
  },
  {
   "cell_type": "code",
   "execution_count": 82,
   "id": "6af30871",
   "metadata": {},
   "outputs": [],
   "source": [
    "x_train, x_test = x_train / 255.0, x_test / 255.0"
   ]
  },
  {
   "cell_type": "code",
   "execution_count": 83,
   "id": "b8486acd",
   "metadata": {},
   "outputs": [],
   "source": [
    "x_train = x_train.reshape((x_train.shape[0], 28, 28, 1))\n",
    "x_test = x_test.reshape((x_test.shape[0], 28, 28, 1))"
   ]
  },
  {
   "cell_type": "code",
   "execution_count": 84,
   "id": "4561ad64",
   "metadata": {},
   "outputs": [],
   "source": [
    "mean_value = np.mean(x_train)\n",
    "std_value = np.std(x_train)"
   ]
  },
  {
   "cell_type": "code",
   "execution_count": 85,
   "id": "d7143438",
   "metadata": {},
   "outputs": [],
   "source": [
    "x_train_std = (x_train - mean_value) / std_value\n",
    "x_test_std = (x_test - mean_value) / std_value"
   ]
  },
  {
   "cell_type": "code",
   "execution_count": 86,
   "id": "2b818292",
   "metadata": {},
   "outputs": [],
   "source": [
    "y_train = to_categorical(y_train, 10)\n",
    "y_test = to_categorical(y_test, 10)"
   ]
  },
  {
   "cell_type": "code",
   "execution_count": 87,
   "id": "c23ceff9",
   "metadata": {},
   "outputs": [],
   "source": [
    "x_train_std, x_val_std, y_train, y_val = train_test_split(x_train_std, y_train, test_size=0.2, random_state=2137)"
   ]
  },
  {
   "cell_type": "code",
   "execution_count": 88,
   "id": "9c58daeb",
   "metadata": {},
   "outputs": [],
   "source": [
    "model = models.Sequential()\n",
    "model.add(layers.experimental.preprocessing.RandomCrop(28, 28, input_shape=(28, 28, 1)))\n",
    "model.add(layers.experimental.preprocessing.RandomFlip(\"horizontal\"))\n",
    "\n",
    "model.add(layers.Conv2D(32, (3, 3),\n",
    "                        activation='relu',\n",
    "                        input_shape=(28, 28, 1),\n",
    "                        padding = \"same\")\n",
    "         )\n",
    "# model.add(layers.MaxPooling2D((2, 2)))\n",
    "model.add(layers.Conv2D(64, (3, 3),\n",
    "                        activation='relu',\n",
    "                        padding = \"same\")\n",
    "         )\n",
    "# model.add(layers.MaxPooling2D((2, 2)))\n",
    "# model.add(layers.Conv2D(64, (3, 3),\n",
    "#                         activation='relu',\n",
    "#                         padding = \"same\")\n",
    "#          )\n",
    "# model.add(layers.MaxPooling2D((2, 2)))\n",
    "\n",
    "\n",
    "model.add(layers.Flatten())\n",
    "model.add(layers.Dense(128, activation='relu'))\n",
    "model.add(layers.Dropout(0.5))\n",
    "model.add(layers.Dense(10, activation='softmax'))"
   ]
  },
  {
   "cell_type": "code",
   "execution_count": 89,
   "id": "bedca9e3",
   "metadata": {},
   "outputs": [],
   "source": [
    "model.compile(optimizer = \"adam\",\n",
    "             loss = \"categorical_crossentropy\",\n",
    "             metrics = [\"accuracy\"],\n",
    "             )\n",
    "\n",
    "early_stopping = EarlyStopping(monitor = \"val_accuracy\", patience = 5, restore_best_weights = True)"
   ]
  },
  {
   "cell_type": "markdown",
   "id": "10ff59b6",
   "metadata": {},
   "source": [
    "best ACC ="
   ]
  },
  {
   "cell_type": "code",
   "execution_count": 90,
   "id": "de5f27a3",
   "metadata": {
    "scrolled": true
   },
   "outputs": [
    {
     "name": "stdout",
     "output_type": "stream",
     "text": [
      "Epoch 1/100\n",
      "94/94 [==============================] - 34s 359ms/step - loss: 0.7696 - accuracy: 0.7411 - val_loss: 0.3793 - val_accuracy: 0.8691\n",
      "Epoch 2/100\n",
      "94/94 [==============================] - 33s 355ms/step - loss: 0.4281 - accuracy: 0.8531 - val_loss: 0.3302 - val_accuracy: 0.8843\n",
      "Epoch 3/100\n",
      "94/94 [==============================] - 34s 367ms/step - loss: 0.3686 - accuracy: 0.8712 - val_loss: 0.2970 - val_accuracy: 0.8960\n",
      "Epoch 4/100\n",
      "94/94 [==============================] - 33s 356ms/step - loss: 0.3265 - accuracy: 0.8832 - val_loss: 0.2855 - val_accuracy: 0.8998\n",
      "Epoch 5/100\n",
      "94/94 [==============================] - 34s 364ms/step - loss: 0.2961 - accuracy: 0.8942 - val_loss: 0.2634 - val_accuracy: 0.9081\n",
      "Epoch 6/100\n",
      "94/94 [==============================] - 34s 365ms/step - loss: 0.2785 - accuracy: 0.8992 - val_loss: 0.2534 - val_accuracy: 0.9129\n",
      "Epoch 7/100\n",
      "94/94 [==============================] - 34s 362ms/step - loss: 0.2590 - accuracy: 0.9058 - val_loss: 0.2471 - val_accuracy: 0.9107\n",
      "Epoch 8/100\n",
      "94/94 [==============================] - 34s 362ms/step - loss: 0.2404 - accuracy: 0.9139 - val_loss: 0.2394 - val_accuracy: 0.9178\n",
      "Epoch 9/100\n",
      "94/94 [==============================] - 34s 365ms/step - loss: 0.2237 - accuracy: 0.9186 - val_loss: 0.2338 - val_accuracy: 0.9193\n",
      "Epoch 10/100\n",
      "94/94 [==============================] - 38s 410ms/step - loss: 0.2090 - accuracy: 0.9242 - val_loss: 0.2330 - val_accuracy: 0.9206\n",
      "Epoch 11/100\n",
      "94/94 [==============================] - 36s 383ms/step - loss: 0.1988 - accuracy: 0.9277 - val_loss: 0.2301 - val_accuracy: 0.9226\n",
      "Epoch 12/100\n",
      "94/94 [==============================] - 36s 384ms/step - loss: 0.1865 - accuracy: 0.9316 - val_loss: 0.2334 - val_accuracy: 0.9190\n",
      "Epoch 13/100\n",
      "94/94 [==============================] - 37s 393ms/step - loss: 0.1765 - accuracy: 0.9349 - val_loss: 0.2287 - val_accuracy: 0.9221\n",
      "Epoch 14/100\n",
      "94/94 [==============================] - 36s 378ms/step - loss: 0.1648 - accuracy: 0.9388 - val_loss: 0.2332 - val_accuracy: 0.9233\n",
      "Epoch 15/100\n",
      "94/94 [==============================] - 39s 416ms/step - loss: 0.1566 - accuracy: 0.9430 - val_loss: 0.2411 - val_accuracy: 0.9201\n",
      "Epoch 16/100\n",
      "94/94 [==============================] - 36s 388ms/step - loss: 0.1462 - accuracy: 0.9464 - val_loss: 0.2316 - val_accuracy: 0.9228\n",
      "Epoch 17/100\n",
      "94/94 [==============================] - 38s 401ms/step - loss: 0.1379 - accuracy: 0.9480 - val_loss: 0.2259 - val_accuracy: 0.9262\n",
      "Epoch 18/100\n",
      "94/94 [==============================] - 36s 384ms/step - loss: 0.1315 - accuracy: 0.9501 - val_loss: 0.2274 - val_accuracy: 0.9265\n",
      "Epoch 19/100\n",
      "94/94 [==============================] - 37s 392ms/step - loss: 0.1246 - accuracy: 0.9537 - val_loss: 0.2446 - val_accuracy: 0.9266\n",
      "Epoch 20/100\n",
      "94/94 [==============================] - 41s 437ms/step - loss: 0.1186 - accuracy: 0.9557 - val_loss: 0.2429 - val_accuracy: 0.9253\n",
      "Epoch 21/100\n",
      "94/94 [==============================] - 36s 386ms/step - loss: 0.1144 - accuracy: 0.9571 - val_loss: 0.2367 - val_accuracy: 0.9273\n",
      "Epoch 22/100\n",
      "94/94 [==============================] - 37s 392ms/step - loss: 0.1050 - accuracy: 0.9614 - val_loss: 0.2509 - val_accuracy: 0.9317\n",
      "Epoch 23/100\n",
      "94/94 [==============================] - 35s 370ms/step - loss: 0.1016 - accuracy: 0.9611 - val_loss: 0.2597 - val_accuracy: 0.9257\n",
      "Epoch 24/100\n",
      "94/94 [==============================] - 35s 373ms/step - loss: 0.0945 - accuracy: 0.9650 - val_loss: 0.2504 - val_accuracy: 0.9264\n",
      "Epoch 25/100\n",
      "94/94 [==============================] - 34s 366ms/step - loss: 0.0907 - accuracy: 0.9671 - val_loss: 0.2640 - val_accuracy: 0.9273\n",
      "Epoch 26/100\n",
      "94/94 [==============================] - 34s 367ms/step - loss: 0.0857 - accuracy: 0.9677 - val_loss: 0.2733 - val_accuracy: 0.9288\n",
      "Epoch 27/100\n",
      "94/94 [==============================] - 34s 365ms/step - loss: 0.0853 - accuracy: 0.9675 - val_loss: 0.2706 - val_accuracy: 0.9277\n",
      "313/313 [==============================] - 3s 9ms/step - loss: 0.2697 - accuracy: 0.9231\n",
      "ACCURACY: 92.31%\n"
     ]
    }
   ],
   "source": [
    "model.fit(x_train_std, y_train, epochs = 100, validation_data = (x_val_std, y_val), batch_size = 512, callbacks=[early_stopping])\n",
    "test_loss, test_acc = model.evaluate(x_test_std, y_test)\n",
    "print(f'ACCURACY: {test_acc * 100:.2f}%')"
   ]
  },
  {
   "cell_type": "code",
   "execution_count": null,
   "id": "84bfcb79",
   "metadata": {},
   "outputs": [],
   "source": []
  }
 ],
 "metadata": {
  "kernelspec": {
   "display_name": "Python 3",
   "language": "python",
   "name": "python3"
  },
  "language_info": {
   "codemirror_mode": {
    "name": "ipython",
    "version": 3
   },
   "file_extension": ".py",
   "mimetype": "text/x-python",
   "name": "python",
   "nbconvert_exporter": "python",
   "pygments_lexer": "ipython3",
   "version": "3.8.8"
  }
 },
 "nbformat": 4,
 "nbformat_minor": 5
}
