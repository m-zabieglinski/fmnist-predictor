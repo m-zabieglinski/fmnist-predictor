{
 "cells": [
  {
   "cell_type": "code",
   "execution_count": 106,
   "id": "c4ecbb18",
   "metadata": {},
   "outputs": [],
   "source": [
    "import tensorflow as tf\n",
    "from tensorflow.keras import layers, models\n",
    "from tensorflow.keras.datasets import fashion_mnist\n",
    "from tensorflow.keras.utils import to_categorical\n",
    "from sklearn.model_selection import train_test_split\n",
    "from keras.callbacks import EarlyStopping"
   ]
  },
  {
   "cell_type": "code",
   "execution_count": 107,
   "id": "b5d393c2",
   "metadata": {},
   "outputs": [],
   "source": [
    "(x_train, y_train), (x_test, y_test) = fashion_mnist.load_data()\n",
    "\n",
    "x_train, x_test = x_train / 255.0, x_test / 255.0\n",
    "\n",
    "x_train = x_train.reshape((x_train.shape[0], 28, 28, 1))\n",
    "x_test = x_test.reshape((x_test.shape[0], 28, 28, 1))\n",
    "\n",
    "y_train = to_categorical(y_train, 10)\n",
    "y_test = to_categorical(y_test, 10)"
   ]
  },
  {
   "cell_type": "code",
   "execution_count": 108,
   "id": "b8ed4c50",
   "metadata": {},
   "outputs": [],
   "source": [
    "x_train, x_val, y_train, y_val = train_test_split(x_train, y_train, test_size = 0.2, random_state = 1234)"
   ]
  },
  {
   "cell_type": "code",
   "execution_count": 109,
   "id": "b97e33a7",
   "metadata": {},
   "outputs": [],
   "source": [
    "model = models.Sequential()\n",
    "model.add(layers.experimental.preprocessing.RandomCrop(28, 28, input_shape=(28, 28, 1)))\n",
    "model.add(layers.experimental.preprocessing.RandomFlip(\"horizontal\"))\n",
    "\n",
    "model.add(layers.Conv2D(32, (3, 3),\n",
    "#                         activation='relu',\n",
    "                        input_shape=(28, 28, 1),\n",
    "                        padding = \"same\")\n",
    "         )\n",
    "model.add(layers.BatchNormalization())\n",
    "model.add(layers.Activation(\"relu\"))\n",
    "model.add(layers.MaxPooling2D((2, 2)))\n",
    "\n",
    "model.add(layers.Conv2D(64, (3, 3),\n",
    "#                         activation='relu',\n",
    "                        padding = \"same\")\n",
    "         )\n",
    "model.add(layers.BatchNormalization())\n",
    "model.add(layers.Activation(\"relu\"))\n",
    "model.add(layers.MaxPooling2D((2, 2)))\n",
    "\n",
    "model.add(layers.Flatten())\n",
    "\n",
    "model.add(layers.Dense(256, activation = \"relu\"))\n",
    "model.add(layers.Dense(10, activation=\"softmax\"))"
   ]
  },
  {
   "cell_type": "code",
   "execution_count": 110,
   "id": "d712b358",
   "metadata": {},
   "outputs": [
    {
     "name": "stdout",
     "output_type": "stream",
     "text": [
      "Model: \"sequential_18\"\n",
      "_________________________________________________________________\n",
      " Layer (type)                Output Shape              Param #   \n",
      "=================================================================\n",
      " random_crop_5 (RandomCrop)  (None, 28, 28, 1)         0         \n",
      "                                                                 \n",
      " random_flip_5 (RandomFlip)  (None, 28, 28, 1)         0         \n",
      "                                                                 \n",
      " conv2d_36 (Conv2D)          (None, 28, 28, 32)        320       \n",
      "                                                                 \n",
      " batch_normalization_27 (Bat  (None, 28, 28, 32)       128       \n",
      " chNormalization)                                                \n",
      "                                                                 \n",
      " activation_26 (Activation)  (None, 28, 28, 32)        0         \n",
      "                                                                 \n",
      " max_pooling2d_36 (MaxPoolin  (None, 14, 14, 32)       0         \n",
      " g2D)                                                            \n",
      "                                                                 \n",
      " conv2d_37 (Conv2D)          (None, 14, 14, 64)        18496     \n",
      "                                                                 \n",
      " batch_normalization_28 (Bat  (None, 14, 14, 64)       256       \n",
      " chNormalization)                                                \n",
      "                                                                 \n",
      " activation_27 (Activation)  (None, 14, 14, 64)        0         \n",
      "                                                                 \n",
      " max_pooling2d_37 (MaxPoolin  (None, 7, 7, 64)         0         \n",
      " g2D)                                                            \n",
      "                                                                 \n",
      " flatten_15 (Flatten)        (None, 3136)              0         \n",
      "                                                                 \n",
      " dense_44 (Dense)            (None, 256)               803072    \n",
      "                                                                 \n",
      " dense_45 (Dense)            (None, 10)                2570      \n",
      "                                                                 \n",
      "=================================================================\n",
      "Total params: 824,842\n",
      "Trainable params: 824,650\n",
      "Non-trainable params: 192\n",
      "_________________________________________________________________\n"
     ]
    }
   ],
   "source": [
    "model.summary()"
   ]
  },
  {
   "cell_type": "code",
   "execution_count": 111,
   "id": "73ab3941",
   "metadata": {},
   "outputs": [],
   "source": [
    "model.compile(optimizer = \"adam\",\n",
    "             loss = \"categorical_crossentropy\",\n",
    "             metrics = [\"accuracy\"],\n",
    "             )\n",
    "\n",
    "early_stopping = EarlyStopping(monitor = \"val_accuracy\", patience = 10, restore_best_weights = True)"
   ]
  },
  {
   "cell_type": "code",
   "execution_count": 112,
   "id": "ea4e5708",
   "metadata": {
    "scrolled": true
   },
   "outputs": [
    {
     "name": "stdout",
     "output_type": "stream",
     "text": [
      "Epoch 1/100\n",
      "188/188 [==============================] - 37s 190ms/step - loss: 0.6288 - accuracy: 0.8012 - val_loss: 2.1336 - val_accuracy: 0.3299\n",
      "Epoch 2/100\n",
      "188/188 [==============================] - 34s 179ms/step - loss: 0.3243 - accuracy: 0.8839 - val_loss: 1.0772 - val_accuracy: 0.5788\n",
      "Epoch 3/100\n",
      "188/188 [==============================] - 4894s 26s/step - loss: 0.2861 - accuracy: 0.8956 - val_loss: 0.3027 - val_accuracy: 0.8909\n",
      "Epoch 4/100\n",
      "188/188 [==============================] - 31s 163ms/step - loss: 0.2570 - accuracy: 0.9060 - val_loss: 0.2728 - val_accuracy: 0.9002\n",
      "Epoch 5/100\n",
      "188/188 [==============================] - 31s 167ms/step - loss: 0.2332 - accuracy: 0.9146 - val_loss: 0.2633 - val_accuracy: 0.9053\n",
      "Epoch 6/100\n",
      "188/188 [==============================] - 29s 156ms/step - loss: 0.2172 - accuracy: 0.9209 - val_loss: 0.3222 - val_accuracy: 0.8811\n",
      "Epoch 7/100\n",
      "188/188 [==============================] - 30s 160ms/step - loss: 0.2041 - accuracy: 0.9252 - val_loss: 0.3435 - val_accuracy: 0.8687\n",
      "Epoch 8/100\n",
      "188/188 [==============================] - 29s 154ms/step - loss: 0.1960 - accuracy: 0.9286 - val_loss: 0.2352 - val_accuracy: 0.9124\n",
      "Epoch 9/100\n",
      "188/188 [==============================] - 29s 154ms/step - loss: 0.1850 - accuracy: 0.9323 - val_loss: 0.2508 - val_accuracy: 0.9067\n",
      "Epoch 10/100\n",
      "188/188 [==============================] - 29s 153ms/step - loss: 0.1768 - accuracy: 0.9351 - val_loss: 0.2634 - val_accuracy: 0.9054\n",
      "Epoch 11/100\n",
      "188/188 [==============================] - 29s 153ms/step - loss: 0.1642 - accuracy: 0.9399 - val_loss: 0.2494 - val_accuracy: 0.9105\n",
      "Epoch 12/100\n",
      "188/188 [==============================] - 30s 158ms/step - loss: 0.1617 - accuracy: 0.9411 - val_loss: 0.2338 - val_accuracy: 0.9166\n",
      "Epoch 13/100\n",
      "188/188 [==============================] - 32s 168ms/step - loss: 0.1509 - accuracy: 0.9440 - val_loss: 0.2428 - val_accuracy: 0.9140\n",
      "Epoch 14/100\n",
      "188/188 [==============================] - 33s 177ms/step - loss: 0.1456 - accuracy: 0.9466 - val_loss: 0.2330 - val_accuracy: 0.9181\n",
      "Epoch 15/100\n",
      "188/188 [==============================] - 31s 164ms/step - loss: 0.1364 - accuracy: 0.9511 - val_loss: 0.3089 - val_accuracy: 0.8950\n",
      "Epoch 16/100\n",
      "188/188 [==============================] - 29s 157ms/step - loss: 0.1294 - accuracy: 0.9519 - val_loss: 0.2460 - val_accuracy: 0.9139\n",
      "Epoch 17/100\n",
      "188/188 [==============================] - 29s 154ms/step - loss: 0.1233 - accuracy: 0.9540 - val_loss: 0.2827 - val_accuracy: 0.9087\n",
      "Epoch 18/100\n",
      "188/188 [==============================] - 30s 158ms/step - loss: 0.1175 - accuracy: 0.9570 - val_loss: 0.3272 - val_accuracy: 0.8921\n",
      "Epoch 19/100\n",
      "188/188 [==============================] - 27s 144ms/step - loss: 0.1140 - accuracy: 0.9585 - val_loss: 0.3322 - val_accuracy: 0.8912\n",
      "Epoch 20/100\n",
      "188/188 [==============================] - 24s 130ms/step - loss: 0.1069 - accuracy: 0.9611 - val_loss: 0.2413 - val_accuracy: 0.9188\n",
      "Epoch 21/100\n",
      "188/188 [==============================] - 25s 133ms/step - loss: 0.1031 - accuracy: 0.9615 - val_loss: 0.2404 - val_accuracy: 0.9199\n",
      "Epoch 22/100\n",
      "188/188 [==============================] - 25s 131ms/step - loss: 0.0926 - accuracy: 0.9660 - val_loss: 0.2605 - val_accuracy: 0.9171\n",
      "Epoch 23/100\n",
      "188/188 [==============================] - 27s 145ms/step - loss: 0.0896 - accuracy: 0.9667 - val_loss: 0.2516 - val_accuracy: 0.9237\n",
      "Epoch 24/100\n",
      "188/188 [==============================] - 28s 151ms/step - loss: 0.0836 - accuracy: 0.9696 - val_loss: 0.2687 - val_accuracy: 0.9184\n",
      "Epoch 25/100\n",
      "188/188 [==============================] - 24s 128ms/step - loss: 0.0846 - accuracy: 0.9685 - val_loss: 0.2804 - val_accuracy: 0.9117\n",
      "Epoch 26/100\n",
      "188/188 [==============================] - 24s 128ms/step - loss: 0.0741 - accuracy: 0.9737 - val_loss: 0.2659 - val_accuracy: 0.9192\n",
      "Epoch 27/100\n",
      "188/188 [==============================] - 24s 128ms/step - loss: 0.0718 - accuracy: 0.9727 - val_loss: 0.2883 - val_accuracy: 0.9162\n",
      "Epoch 28/100\n",
      "188/188 [==============================] - 26s 137ms/step - loss: 0.0736 - accuracy: 0.9720 - val_loss: 0.2658 - val_accuracy: 0.9254\n",
      "Epoch 29/100\n",
      "188/188 [==============================] - 25s 130ms/step - loss: 0.0639 - accuracy: 0.9768 - val_loss: 0.3187 - val_accuracy: 0.9068\n",
      "Epoch 30/100\n",
      "188/188 [==============================] - 25s 135ms/step - loss: 0.0599 - accuracy: 0.9783 - val_loss: 0.3047 - val_accuracy: 0.9150\n",
      "Epoch 31/100\n",
      "188/188 [==============================] - 27s 145ms/step - loss: 0.0553 - accuracy: 0.9801 - val_loss: 0.3388 - val_accuracy: 0.9130\n",
      "Epoch 32/100\n",
      "188/188 [==============================] - 28s 149ms/step - loss: 0.0539 - accuracy: 0.9804 - val_loss: 0.3694 - val_accuracy: 0.9012\n",
      "Epoch 33/100\n",
      "188/188 [==============================] - 26s 140ms/step - loss: 0.0561 - accuracy: 0.9795 - val_loss: 0.4086 - val_accuracy: 0.9041\n",
      "Epoch 34/100\n",
      "188/188 [==============================] - 26s 139ms/step - loss: 0.0489 - accuracy: 0.9824 - val_loss: 0.3138 - val_accuracy: 0.9204\n",
      "Epoch 35/100\n",
      "188/188 [==============================] - 28s 147ms/step - loss: 0.0465 - accuracy: 0.9836 - val_loss: 0.3746 - val_accuracy: 0.9078\n",
      "Epoch 36/100\n",
      "188/188 [==============================] - 24s 129ms/step - loss: 0.0422 - accuracy: 0.9850 - val_loss: 0.3397 - val_accuracy: 0.9145\n",
      "Epoch 37/100\n",
      "188/188 [==============================] - 24s 127ms/step - loss: 0.0434 - accuracy: 0.9842 - val_loss: 0.3686 - val_accuracy: 0.9132\n",
      "Epoch 38/100\n",
      "188/188 [==============================] - 25s 132ms/step - loss: 0.0465 - accuracy: 0.9826 - val_loss: 0.3615 - val_accuracy: 0.9139\n"
     ]
    },
    {
     "data": {
      "text/plain": [
       "<keras.callbacks.History at 0x1b911994220>"
      ]
     },
     "execution_count": 112,
     "metadata": {},
     "output_type": "execute_result"
    }
   ],
   "source": [
    "model.fit(x_train, y_train,\n",
    "                  batch_size = 256,\n",
    "                  epochs = 100,\n",
    "                  validation_data=(x_val, y_val),\n",
    "                  callbacks=[early_stopping],\n",
    "         )"
   ]
  },
  {
   "cell_type": "code",
   "execution_count": 113,
   "id": "07df498c",
   "metadata": {},
   "outputs": [
    {
     "name": "stdout",
     "output_type": "stream",
     "text": [
      "313/313 [==============================] - 2s 7ms/step - loss: 0.2978 - accuracy: 0.9202\n",
      "ACCURACY: 92.02%\n"
     ]
    }
   ],
   "source": [
    "test_loss, test_acc = model.evaluate(x_test, y_test)\n",
    "print(f'ACCURACY: {test_acc * 100:.2f}%')"
   ]
  }
 ],
 "metadata": {
  "kernelspec": {
   "display_name": "Python 3",
   "language": "python",
   "name": "python3"
  },
  "language_info": {
   "codemirror_mode": {
    "name": "ipython",
    "version": 3
   },
   "file_extension": ".py",
   "mimetype": "text/x-python",
   "name": "python",
   "nbconvert_exporter": "python",
   "pygments_lexer": "ipython3",
   "version": "3.8.8"
  }
 },
 "nbformat": 4,
 "nbformat_minor": 5
}
