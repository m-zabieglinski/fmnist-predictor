{
 "cells": [
  {
   "cell_type": "code",
   "execution_count": 84,
   "id": "238b50dd",
   "metadata": {},
   "outputs": [],
   "source": [
    "import tensorflow as tf\n",
    "from tensorflow.keras import layers, models\n",
    "from tensorflow.keras.datasets import fashion_mnist\n",
    "from tensorflow.keras.utils import to_categorical\n",
    "from sklearn.model_selection import train_test_split\n",
    "from keras.callbacks import EarlyStopping\n",
    "\n",
    "import numpy as np"
   ]
  },
  {
   "cell_type": "code",
   "execution_count": 85,
   "id": "bd7b424d",
   "metadata": {},
   "outputs": [],
   "source": [
    "(x_train, y_train), (x_test, y_test) = fashion_mnist.load_data()"
   ]
  },
  {
   "cell_type": "code",
   "execution_count": 86,
   "id": "6af30871",
   "metadata": {},
   "outputs": [],
   "source": [
    "x_train, x_test = x_train / 255.0, x_test / 255.0"
   ]
  },
  {
   "cell_type": "code",
   "execution_count": 87,
   "id": "b8486acd",
   "metadata": {},
   "outputs": [],
   "source": [
    "x_train = x_train.reshape((x_train.shape[0], 28, 28, 1))\n",
    "x_test = x_test.reshape((x_test.shape[0], 28, 28, 1))"
   ]
  },
  {
   "cell_type": "code",
   "execution_count": 88,
   "id": "4561ad64",
   "metadata": {},
   "outputs": [],
   "source": [
    "mean_value = np.mean(x_train)\n",
    "std_value = np.std(x_train)"
   ]
  },
  {
   "cell_type": "code",
   "execution_count": 89,
   "id": "d7143438",
   "metadata": {},
   "outputs": [],
   "source": [
    "x_train_std = (x_train - mean_value) / std_value\n",
    "x_test_std = (x_test - mean_value) / std_value"
   ]
  },
  {
   "cell_type": "code",
   "execution_count": 90,
   "id": "2b818292",
   "metadata": {},
   "outputs": [],
   "source": [
    "y_train = to_categorical(y_train, 10)\n",
    "y_test = to_categorical(y_test, 10)"
   ]
  },
  {
   "cell_type": "code",
   "execution_count": 91,
   "id": "c23ceff9",
   "metadata": {},
   "outputs": [],
   "source": [
    "x_train_std, x_val_std, y_train, y_val = train_test_split(x_train_std, y_train, test_size=0.2, random_state=2137)"
   ]
  },
  {
   "cell_type": "code",
   "execution_count": 100,
   "id": "9c58daeb",
   "metadata": {},
   "outputs": [],
   "source": [
    "model = models.Sequential()\n",
    "model.add(layers.experimental.preprocessing.RandomCrop(28, 28, input_shape=(28, 28, 1)))\n",
    "model.add(layers.experimental.preprocessing.RandomFlip(\"horizontal\"))\n",
    "model.add(layers.Conv2D(32, (3, 3),\n",
    "                        activation='relu',\n",
    "                        input_shape=(28, 28, 1),\n",
    "                        padding = \"same\")\n",
    "         )\n",
    "model.add(layers.MaxPooling2D((2, 2)))\n",
    "model.add(layers.Conv2D(64, (3, 3),\n",
    "                        activation='relu',\n",
    "                        padding = \"same\")\n",
    "         )\n",
    "model.add(layers.MaxPooling2D((2, 2)))\n",
    "model.add(layers.Conv2D(64, (3, 3),\n",
    "                        activation='relu',\n",
    "                        padding = \"same\")\n",
    "         )\n",
    "model.add(layers.Flatten())\n",
    "model.add(layers.Dense(128, activation='relu'))\n",
    "model.add(layers.Dropout(0.5))\n",
    "model.add(layers.Dense(10, activation='softmax'))"
   ]
  },
  {
   "cell_type": "code",
   "execution_count": 101,
   "id": "bedca9e3",
   "metadata": {},
   "outputs": [],
   "source": [
    "model.compile(optimizer = \"adam\",\n",
    "             loss = \"categorical_crossentropy\",\n",
    "             metrics = [\"accuracy\"],\n",
    "             )\n",
    "\n",
    "early_stopping = EarlyStopping(monitor = \"val_accuracy\", patience = 5, restore_best_weights = True)"
   ]
  },
  {
   "cell_type": "markdown",
   "id": "10ff59b6",
   "metadata": {},
   "source": [
    "best ACC ="
   ]
  },
  {
   "cell_type": "code",
   "execution_count": 102,
   "id": "de5f27a3",
   "metadata": {
    "scrolled": true
   },
   "outputs": [
    {
     "name": "stdout",
     "output_type": "stream",
     "text": [
      "Epoch 1/100\n",
      "94/94 [==============================] - 18s 183ms/step - loss: 0.7884 - accuracy: 0.7225 - val_loss: 0.4214 - val_accuracy: 0.8493\n",
      "Epoch 2/100\n",
      "94/94 [==============================] - 17s 180ms/step - loss: 0.4565 - accuracy: 0.8380 - val_loss: 0.3573 - val_accuracy: 0.8739\n",
      "Epoch 3/100\n",
      "94/94 [==============================] - 17s 179ms/step - loss: 0.3830 - accuracy: 0.8627 - val_loss: 0.3220 - val_accuracy: 0.8836\n",
      "Epoch 4/100\n",
      "94/94 [==============================] - 17s 180ms/step - loss: 0.3413 - accuracy: 0.8780 - val_loss: 0.2971 - val_accuracy: 0.8894\n",
      "Epoch 5/100\n",
      "94/94 [==============================] - 17s 177ms/step - loss: 0.3160 - accuracy: 0.8858 - val_loss: 0.2807 - val_accuracy: 0.8986\n",
      "Epoch 6/100\n",
      "94/94 [==============================] - 17s 178ms/step - loss: 0.2966 - accuracy: 0.8949 - val_loss: 0.2606 - val_accuracy: 0.9060\n",
      "Epoch 7/100\n",
      "94/94 [==============================] - 17s 179ms/step - loss: 0.2786 - accuracy: 0.9001 - val_loss: 0.2504 - val_accuracy: 0.9082\n",
      "Epoch 8/100\n",
      "94/94 [==============================] - 17s 178ms/step - loss: 0.2681 - accuracy: 0.9043 - val_loss: 0.2433 - val_accuracy: 0.9118\n",
      "Epoch 9/100\n",
      "94/94 [==============================] - 17s 180ms/step - loss: 0.2521 - accuracy: 0.9088 - val_loss: 0.2436 - val_accuracy: 0.9104\n",
      "Epoch 10/100\n",
      "94/94 [==============================] - 17s 180ms/step - loss: 0.2407 - accuracy: 0.9145 - val_loss: 0.2348 - val_accuracy: 0.9158\n",
      "Epoch 11/100\n",
      "94/94 [==============================] - 17s 184ms/step - loss: 0.2327 - accuracy: 0.9162 - val_loss: 0.2284 - val_accuracy: 0.9178\n",
      "Epoch 12/100\n",
      "94/94 [==============================] - 17s 176ms/step - loss: 0.2234 - accuracy: 0.9194 - val_loss: 0.2278 - val_accuracy: 0.9185\n",
      "Epoch 13/100\n",
      "94/94 [==============================] - 17s 178ms/step - loss: 0.2134 - accuracy: 0.9227 - val_loss: 0.2210 - val_accuracy: 0.9231\n",
      "Epoch 14/100\n",
      "94/94 [==============================] - 17s 179ms/step - loss: 0.2082 - accuracy: 0.9244 - val_loss: 0.2161 - val_accuracy: 0.9228\n",
      "Epoch 15/100\n",
      "94/94 [==============================] - 17s 177ms/step - loss: 0.1985 - accuracy: 0.9279 - val_loss: 0.2259 - val_accuracy: 0.9196\n",
      "Epoch 16/100\n",
      "94/94 [==============================] - 17s 179ms/step - loss: 0.1977 - accuracy: 0.9279 - val_loss: 0.2104 - val_accuracy: 0.9268\n",
      "Epoch 17/100\n",
      "94/94 [==============================] - 17s 181ms/step - loss: 0.1862 - accuracy: 0.9323 - val_loss: 0.2113 - val_accuracy: 0.9268\n",
      "Epoch 18/100\n",
      "94/94 [==============================] - 17s 180ms/step - loss: 0.1813 - accuracy: 0.9334 - val_loss: 0.2074 - val_accuracy: 0.9283\n",
      "Epoch 19/100\n",
      "94/94 [==============================] - 17s 181ms/step - loss: 0.1776 - accuracy: 0.9347 - val_loss: 0.2111 - val_accuracy: 0.9289\n",
      "Epoch 20/100\n",
      "94/94 [==============================] - 17s 182ms/step - loss: 0.1674 - accuracy: 0.9382 - val_loss: 0.2136 - val_accuracy: 0.9270\n",
      "Epoch 21/100\n",
      "94/94 [==============================] - 17s 181ms/step - loss: 0.1618 - accuracy: 0.9408 - val_loss: 0.2136 - val_accuracy: 0.9268\n",
      "Epoch 22/100\n",
      "94/94 [==============================] - 17s 179ms/step - loss: 0.1567 - accuracy: 0.9438 - val_loss: 0.2204 - val_accuracy: 0.9250\n",
      "Epoch 23/100\n",
      "94/94 [==============================] - 17s 182ms/step - loss: 0.1532 - accuracy: 0.9428 - val_loss: 0.2068 - val_accuracy: 0.9315\n",
      "Epoch 24/100\n",
      "94/94 [==============================] - 17s 180ms/step - loss: 0.1500 - accuracy: 0.9441 - val_loss: 0.2110 - val_accuracy: 0.9311\n",
      "Epoch 25/100\n",
      "94/94 [==============================] - 17s 184ms/step - loss: 0.1473 - accuracy: 0.9454 - val_loss: 0.2157 - val_accuracy: 0.9295\n",
      "Epoch 26/100\n",
      "94/94 [==============================] - 18s 195ms/step - loss: 0.1367 - accuracy: 0.9490 - val_loss: 0.2135 - val_accuracy: 0.9315\n",
      "Epoch 27/100\n",
      "94/94 [==============================] - 19s 203ms/step - loss: 0.1329 - accuracy: 0.9519 - val_loss: 0.2057 - val_accuracy: 0.9348\n",
      "Epoch 28/100\n",
      "94/94 [==============================] - 20s 213ms/step - loss: 0.1276 - accuracy: 0.9528 - val_loss: 0.2088 - val_accuracy: 0.9327\n",
      "Epoch 29/100\n",
      "94/94 [==============================] - 19s 203ms/step - loss: 0.1277 - accuracy: 0.9522 - val_loss: 0.2159 - val_accuracy: 0.9316\n",
      "Epoch 30/100\n",
      "94/94 [==============================] - 17s 181ms/step - loss: 0.1219 - accuracy: 0.9549 - val_loss: 0.2101 - val_accuracy: 0.9337\n",
      "Epoch 31/100\n",
      "94/94 [==============================] - 17s 181ms/step - loss: 0.1156 - accuracy: 0.9574 - val_loss: 0.2200 - val_accuracy: 0.9345\n",
      "Epoch 32/100\n",
      "94/94 [==============================] - 17s 180ms/step - loss: 0.1129 - accuracy: 0.9578 - val_loss: 0.2193 - val_accuracy: 0.9327\n",
      "313/313 [==============================] - 2s 6ms/step - loss: 0.2260 - accuracy: 0.9236\n",
      "ACCURACY: 92.36%\n"
     ]
    }
   ],
   "source": [
    "model.fit(x_train_std, y_train, epochs = 100, validation_data = (x_val_std, y_val), batch_size = 512, callbacks=[early_stopping])\n",
    "test_loss, test_acc = model.evaluate(x_test_std, y_test)\n",
    "print(f'ACCURACY: {test_acc * 100:.2f}%')"
   ]
  },
  {
   "cell_type": "code",
   "execution_count": null,
   "id": "84bfcb79",
   "metadata": {},
   "outputs": [],
   "source": []
  }
 ],
 "metadata": {
  "kernelspec": {
   "display_name": "Python 3",
   "language": "python",
   "name": "python3"
  },
  "language_info": {
   "codemirror_mode": {
    "name": "ipython",
    "version": 3
   },
   "file_extension": ".py",
   "mimetype": "text/x-python",
   "name": "python",
   "nbconvert_exporter": "python",
   "pygments_lexer": "ipython3",
   "version": "3.8.8"
  }
 },
 "nbformat": 4,
 "nbformat_minor": 5
}
