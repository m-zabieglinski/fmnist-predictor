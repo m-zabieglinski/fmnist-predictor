{
 "cells": [
  {
   "cell_type": "code",
   "execution_count": 83,
   "id": "86b2db07",
   "metadata": {},
   "outputs": [],
   "source": [
    "import tensorflow as tf\n",
    "from tensorflow.keras import layers, models\n",
    "from tensorflow.keras.datasets import fashion_mnist\n",
    "from tensorflow.keras.utils import to_categorical\n",
    "from sklearn.model_selection import train_test_split\n",
    "from keras.callbacks import EarlyStopping\n",
    "\n",
    "import numpy as np"
   ]
  },
  {
   "cell_type": "code",
   "execution_count": 84,
   "id": "1a0ef328",
   "metadata": {},
   "outputs": [],
   "source": [
    "(x_train, y_train), (x_test, y_test) = fashion_mnist.load_data()\n",
    "\n",
    "x_train, x_test = x_train / 255.0, x_test / 255.0\n",
    "\n",
    "x_train = x_train.reshape((x_train.shape[0], 28, 28, 1))\n",
    "x_test = x_test.reshape((x_test.shape[0], 28, 28, 1))\n",
    "\n",
    "y_train = to_categorical(y_train, 10)\n",
    "y_test = to_categorical(y_test, 10)"
   ]
  },
  {
   "cell_type": "code",
   "execution_count": 85,
   "id": "a7e911ba",
   "metadata": {},
   "outputs": [],
   "source": [
    "mean_value = np.mean(x_train)\n",
    "std_value = np.std(x_train)\n",
    "x_train = (x_train - mean_value) / std_value\n",
    "x_test = (x_test - mean_value) / std_value"
   ]
  },
  {
   "cell_type": "code",
   "execution_count": 86,
   "id": "c578e4fd",
   "metadata": {},
   "outputs": [],
   "source": [
    "x_train, x_val, y_train, y_val = train_test_split(x_train, y_train, test_size = 0.2, random_state = 1234)"
   ]
  },
  {
   "cell_type": "code",
   "execution_count": 87,
   "id": "c88e27ae",
   "metadata": {},
   "outputs": [],
   "source": [
    "model = models.Sequential()\n",
    "model.add(layers.Conv2D(32, (3, 3),\n",
    "                        activation='relu',\n",
    "                        input_shape=(28, 28, 1),\n",
    "                        padding = \"same\")\n",
    "         )\n",
    "model.add(layers.MaxPooling2D((2, 2)))\n",
    "model.add(layers.Conv2D(64, (3, 3),\n",
    "                        activation='relu',\n",
    "                        padding = \"same\")\n",
    "         )\n",
    "model.add(layers.MaxPooling2D((2, 2)))\n",
    "model.add(layers.Conv2D(64, (3, 3),\n",
    "                        activation='relu',\n",
    "                        padding = \"same\")\n",
    "         )\n",
    "model.add(layers.Flatten())\n",
    "model.add(layers.Dense(128, activation='relu'))\n",
    "model.add(layers.Dropout(0.5))\n",
    "model.add(layers.Dense(10, activation='softmax'))"
   ]
  },
  {
   "cell_type": "code",
   "execution_count": 88,
   "id": "28417e07",
   "metadata": {},
   "outputs": [
    {
     "name": "stdout",
     "output_type": "stream",
     "text": [
      "Model: \"sequential_8\"\n",
      "_________________________________________________________________\n",
      " Layer (type)                Output Shape              Param #   \n",
      "=================================================================\n",
      " conv2d_24 (Conv2D)          (None, 28, 28, 32)        320       \n",
      "                                                                 \n",
      " max_pooling2d_16 (MaxPoolin  (None, 14, 14, 32)       0         \n",
      " g2D)                                                            \n",
      "                                                                 \n",
      " conv2d_25 (Conv2D)          (None, 14, 14, 64)        18496     \n",
      "                                                                 \n",
      " max_pooling2d_17 (MaxPoolin  (None, 7, 7, 64)         0         \n",
      " g2D)                                                            \n",
      "                                                                 \n",
      " conv2d_26 (Conv2D)          (None, 7, 7, 64)          36928     \n",
      "                                                                 \n",
      " flatten_8 (Flatten)         (None, 3136)              0         \n",
      "                                                                 \n",
      " dense_16 (Dense)            (None, 128)               401536    \n",
      "                                                                 \n",
      " dropout_8 (Dropout)         (None, 128)               0         \n",
      "                                                                 \n",
      " dense_17 (Dense)            (None, 10)                1290      \n",
      "                                                                 \n",
      "=================================================================\n",
      "Total params: 458,570\n",
      "Trainable params: 458,570\n",
      "Non-trainable params: 0\n",
      "_________________________________________________________________\n"
     ]
    }
   ],
   "source": [
    "model.summary()"
   ]
  },
  {
   "cell_type": "code",
   "execution_count": 89,
   "id": "9534d8c1",
   "metadata": {},
   "outputs": [],
   "source": [
    "model.compile(optimizer = \"adam\",\n",
    "             loss = \"categorical_crossentropy\",\n",
    "             metrics = [\"accuracy\"],\n",
    "             )\n",
    "\n",
    "early_stopping = EarlyStopping(monitor = \"val_accuracy\", patience = 10, restore_best_weights = True)"
   ]
  },
  {
   "cell_type": "code",
   "execution_count": 94,
   "id": "84ee3f26",
   "metadata": {
    "scrolled": true
   },
   "outputs": [
    {
     "name": "stdout",
     "output_type": "stream",
     "text": [
      "Epoch 1/100\n",
      "12/12 [==============================] - 5s 292ms/step - loss: 0.0474 - accuracy: 0.9828 - val_loss: 0.2721 - val_accuracy: 0.9308\n",
      "Epoch 2/100\n",
      "12/12 [==============================] - 1s 96ms/step - loss: 0.0466 - accuracy: 0.9835 - val_loss: 0.2712 - val_accuracy: 0.9320\n",
      "Epoch 3/100\n",
      "12/12 [==============================] - 1s 99ms/step - loss: 0.0420 - accuracy: 0.9849 - val_loss: 0.2771 - val_accuracy: 0.9315\n",
      "Epoch 4/100\n",
      "12/12 [==============================] - 1s 100ms/step - loss: 0.0423 - accuracy: 0.9840 - val_loss: 0.2760 - val_accuracy: 0.9309\n",
      "Epoch 5/100\n",
      "12/12 [==============================] - 1s 110ms/step - loss: 0.0399 - accuracy: 0.9855 - val_loss: 0.2845 - val_accuracy: 0.9308\n",
      "Epoch 6/100\n",
      "12/12 [==============================] - 1s 104ms/step - loss: 0.0399 - accuracy: 0.9855 - val_loss: 0.2839 - val_accuracy: 0.9302\n",
      "Epoch 7/100\n",
      "12/12 [==============================] - 1s 104ms/step - loss: 0.0388 - accuracy: 0.9862 - val_loss: 0.2837 - val_accuracy: 0.9308\n",
      "Epoch 8/100\n",
      "12/12 [==============================] - 1s 104ms/step - loss: 0.0365 - accuracy: 0.9867 - val_loss: 0.2911 - val_accuracy: 0.9310\n",
      "Epoch 9/100\n",
      "12/12 [==============================] - 1s 108ms/step - loss: 0.0367 - accuracy: 0.9867 - val_loss: 0.2886 - val_accuracy: 0.9315\n",
      "Epoch 10/100\n",
      "12/12 [==============================] - 1s 117ms/step - loss: 0.0360 - accuracy: 0.9873 - val_loss: 0.2878 - val_accuracy: 0.9299\n",
      "Epoch 11/100\n",
      "12/12 [==============================] - 1s 118ms/step - loss: 0.0350 - accuracy: 0.9876 - val_loss: 0.2951 - val_accuracy: 0.9309\n",
      "Epoch 12/100\n",
      "12/12 [==============================] - 1s 117ms/step - loss: 0.0339 - accuracy: 0.9879 - val_loss: 0.2986 - val_accuracy: 0.9298\n"
     ]
    },
    {
     "data": {
      "text/plain": [
       "<keras.callbacks.History at 0x1a6e9c222b0>"
      ]
     },
     "execution_count": 94,
     "metadata": {},
     "output_type": "execute_result"
    }
   ],
   "source": [
    "model.fit(x_train, y_train,\n",
    "                  batch_size = 4096,\n",
    "                  epochs = 100,\n",
    "                  validation_data=(x_val, y_val),\n",
    "                  callbacks=[early_stopping],\n",
    "         )"
   ]
  },
  {
   "cell_type": "code",
   "execution_count": 95,
   "id": "fbcf289a",
   "metadata": {},
   "outputs": [
    {
     "name": "stdout",
     "output_type": "stream",
     "text": [
      "313/313 [==============================] - 1s 3ms/step - loss: 0.3050 - accuracy: 0.9277\n",
      "ACCURACY: 92.77%\n"
     ]
    }
   ],
   "source": [
    "test_loss, test_acc = model.evaluate(x_test, y_test)\n",
    "print(f'ACCURACY: {test_acc * 100:.2f}%')"
   ]
  },
  {
   "cell_type": "code",
   "execution_count": null,
   "id": "b165b855",
   "metadata": {},
   "outputs": [],
   "source": []
  }
 ],
 "metadata": {
  "kernelspec": {
   "display_name": "Python 3",
   "language": "python",
   "name": "python3"
  },
  "language_info": {
   "codemirror_mode": {
    "name": "ipython",
    "version": 3
   },
   "file_extension": ".py",
   "mimetype": "text/x-python",
   "name": "python",
   "nbconvert_exporter": "python",
   "pygments_lexer": "ipython3",
   "version": "3.8.8"
  }
 },
 "nbformat": 4,
 "nbformat_minor": 5
}
